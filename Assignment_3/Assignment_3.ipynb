{
 "cells": [
  {
   "cell_type": "code",
   "execution_count": 66,
   "id": "956b9511",
   "metadata": {},
   "outputs": [],
   "source": [
    "import numpy as np\n",
    "import pandas as pd\n",
    "\n",
    "import matplotlib.pyplot as plt\n",
    "import seaborn as sns\n",
    "\n",
    "from sklearn.model_selection import train_test_split\n",
    "from sklearn.linear_model import LogisticRegression\n",
    "from sklearn.metrics import classification_report, precision_score, recall_score, f1_score\n",
    "from sklearn.cluster import KMeans\n",
    "from sklearn.preprocessing import StandardScaler\n",
    "\n",
    "from imblearn.over_sampling import SMOTE\n",
    "\n",
    "sns.set_style('whitegrid')"
   ]
  },
  {
   "cell_type": "markdown",
   "id": "4e665b2f",
   "metadata": {},
   "source": [
    "# Part A: Data Exploration and Baseline Model \n"
   ]
  },
  {
   "cell_type": "markdown",
   "id": "1c0df50b",
   "metadata": {},
   "source": [
    "## 1. Load and Analyze the Dataset"
   ]
  },
  {
   "cell_type": "code",
   "execution_count": 67,
   "id": "568aeb02",
   "metadata": {},
   "outputs": [
    {
     "data": {
      "text/html": [
       "<div>\n",
       "<style scoped>\n",
       "    .dataframe tbody tr th:only-of-type {\n",
       "        vertical-align: middle;\n",
       "    }\n",
       "\n",
       "    .dataframe tbody tr th {\n",
       "        vertical-align: top;\n",
       "    }\n",
       "\n",
       "    .dataframe thead th {\n",
       "        text-align: right;\n",
       "    }\n",
       "</style>\n",
       "<table border=\"1\" class=\"dataframe\">\n",
       "  <thead>\n",
       "    <tr style=\"text-align: right;\">\n",
       "      <th></th>\n",
       "      <th>Time</th>\n",
       "      <th>V1</th>\n",
       "      <th>V2</th>\n",
       "      <th>V3</th>\n",
       "      <th>V4</th>\n",
       "      <th>V5</th>\n",
       "      <th>V6</th>\n",
       "      <th>V7</th>\n",
       "      <th>V8</th>\n",
       "      <th>V9</th>\n",
       "      <th>...</th>\n",
       "      <th>V21</th>\n",
       "      <th>V22</th>\n",
       "      <th>V23</th>\n",
       "      <th>V24</th>\n",
       "      <th>V25</th>\n",
       "      <th>V26</th>\n",
       "      <th>V27</th>\n",
       "      <th>V28</th>\n",
       "      <th>Amount</th>\n",
       "      <th>Class</th>\n",
       "    </tr>\n",
       "  </thead>\n",
       "  <tbody>\n",
       "    <tr>\n",
       "      <th>0</th>\n",
       "      <td>0.0</td>\n",
       "      <td>-1.359807</td>\n",
       "      <td>-0.072781</td>\n",
       "      <td>2.536347</td>\n",
       "      <td>1.378155</td>\n",
       "      <td>-0.338321</td>\n",
       "      <td>0.462388</td>\n",
       "      <td>0.239599</td>\n",
       "      <td>0.098698</td>\n",
       "      <td>0.363787</td>\n",
       "      <td>...</td>\n",
       "      <td>-0.018307</td>\n",
       "      <td>0.277838</td>\n",
       "      <td>-0.110474</td>\n",
       "      <td>0.066928</td>\n",
       "      <td>0.128539</td>\n",
       "      <td>-0.189115</td>\n",
       "      <td>0.133558</td>\n",
       "      <td>-0.021053</td>\n",
       "      <td>149.62</td>\n",
       "      <td>0</td>\n",
       "    </tr>\n",
       "    <tr>\n",
       "      <th>1</th>\n",
       "      <td>0.0</td>\n",
       "      <td>1.191857</td>\n",
       "      <td>0.266151</td>\n",
       "      <td>0.166480</td>\n",
       "      <td>0.448154</td>\n",
       "      <td>0.060018</td>\n",
       "      <td>-0.082361</td>\n",
       "      <td>-0.078803</td>\n",
       "      <td>0.085102</td>\n",
       "      <td>-0.255425</td>\n",
       "      <td>...</td>\n",
       "      <td>-0.225775</td>\n",
       "      <td>-0.638672</td>\n",
       "      <td>0.101288</td>\n",
       "      <td>-0.339846</td>\n",
       "      <td>0.167170</td>\n",
       "      <td>0.125895</td>\n",
       "      <td>-0.008983</td>\n",
       "      <td>0.014724</td>\n",
       "      <td>2.69</td>\n",
       "      <td>0</td>\n",
       "    </tr>\n",
       "    <tr>\n",
       "      <th>2</th>\n",
       "      <td>1.0</td>\n",
       "      <td>-1.358354</td>\n",
       "      <td>-1.340163</td>\n",
       "      <td>1.773209</td>\n",
       "      <td>0.379780</td>\n",
       "      <td>-0.503198</td>\n",
       "      <td>1.800499</td>\n",
       "      <td>0.791461</td>\n",
       "      <td>0.247676</td>\n",
       "      <td>-1.514654</td>\n",
       "      <td>...</td>\n",
       "      <td>0.247998</td>\n",
       "      <td>0.771679</td>\n",
       "      <td>0.909412</td>\n",
       "      <td>-0.689281</td>\n",
       "      <td>-0.327642</td>\n",
       "      <td>-0.139097</td>\n",
       "      <td>-0.055353</td>\n",
       "      <td>-0.059752</td>\n",
       "      <td>378.66</td>\n",
       "      <td>0</td>\n",
       "    </tr>\n",
       "    <tr>\n",
       "      <th>3</th>\n",
       "      <td>1.0</td>\n",
       "      <td>-0.966272</td>\n",
       "      <td>-0.185226</td>\n",
       "      <td>1.792993</td>\n",
       "      <td>-0.863291</td>\n",
       "      <td>-0.010309</td>\n",
       "      <td>1.247203</td>\n",
       "      <td>0.237609</td>\n",
       "      <td>0.377436</td>\n",
       "      <td>-1.387024</td>\n",
       "      <td>...</td>\n",
       "      <td>-0.108300</td>\n",
       "      <td>0.005274</td>\n",
       "      <td>-0.190321</td>\n",
       "      <td>-1.175575</td>\n",
       "      <td>0.647376</td>\n",
       "      <td>-0.221929</td>\n",
       "      <td>0.062723</td>\n",
       "      <td>0.061458</td>\n",
       "      <td>123.50</td>\n",
       "      <td>0</td>\n",
       "    </tr>\n",
       "    <tr>\n",
       "      <th>4</th>\n",
       "      <td>2.0</td>\n",
       "      <td>-1.158233</td>\n",
       "      <td>0.877737</td>\n",
       "      <td>1.548718</td>\n",
       "      <td>0.403034</td>\n",
       "      <td>-0.407193</td>\n",
       "      <td>0.095921</td>\n",
       "      <td>0.592941</td>\n",
       "      <td>-0.270533</td>\n",
       "      <td>0.817739</td>\n",
       "      <td>...</td>\n",
       "      <td>-0.009431</td>\n",
       "      <td>0.798278</td>\n",
       "      <td>-0.137458</td>\n",
       "      <td>0.141267</td>\n",
       "      <td>-0.206010</td>\n",
       "      <td>0.502292</td>\n",
       "      <td>0.219422</td>\n",
       "      <td>0.215153</td>\n",
       "      <td>69.99</td>\n",
       "      <td>0</td>\n",
       "    </tr>\n",
       "  </tbody>\n",
       "</table>\n",
       "<p>5 rows × 31 columns</p>\n",
       "</div>"
      ],
      "text/plain": [
       "   Time        V1        V2        V3        V4        V5        V6        V7  \\\n",
       "0   0.0 -1.359807 -0.072781  2.536347  1.378155 -0.338321  0.462388  0.239599   \n",
       "1   0.0  1.191857  0.266151  0.166480  0.448154  0.060018 -0.082361 -0.078803   \n",
       "2   1.0 -1.358354 -1.340163  1.773209  0.379780 -0.503198  1.800499  0.791461   \n",
       "3   1.0 -0.966272 -0.185226  1.792993 -0.863291 -0.010309  1.247203  0.237609   \n",
       "4   2.0 -1.158233  0.877737  1.548718  0.403034 -0.407193  0.095921  0.592941   \n",
       "\n",
       "         V8        V9  ...       V21       V22       V23       V24       V25  \\\n",
       "0  0.098698  0.363787  ... -0.018307  0.277838 -0.110474  0.066928  0.128539   \n",
       "1  0.085102 -0.255425  ... -0.225775 -0.638672  0.101288 -0.339846  0.167170   \n",
       "2  0.247676 -1.514654  ...  0.247998  0.771679  0.909412 -0.689281 -0.327642   \n",
       "3  0.377436 -1.387024  ... -0.108300  0.005274 -0.190321 -1.175575  0.647376   \n",
       "4 -0.270533  0.817739  ... -0.009431  0.798278 -0.137458  0.141267 -0.206010   \n",
       "\n",
       "        V26       V27       V28  Amount  Class  \n",
       "0 -0.189115  0.133558 -0.021053  149.62      0  \n",
       "1  0.125895 -0.008983  0.014724    2.69      0  \n",
       "2 -0.139097 -0.055353 -0.059752  378.66      0  \n",
       "3 -0.221929  0.062723  0.061458  123.50      0  \n",
       "4  0.502292  0.219422  0.215153   69.99      0  \n",
       "\n",
       "[5 rows x 31 columns]"
      ]
     },
     "execution_count": 67,
     "metadata": {},
     "output_type": "execute_result"
    }
   ],
   "source": [
    "df = pd.read_csv('creditcard.csv')\n",
    "df.head()\n"
   ]
  },
  {
   "cell_type": "code",
   "execution_count": 68,
   "id": "bffd5655",
   "metadata": {},
   "outputs": [
    {
     "data": {
      "text/plain": [
       "(284807, 31)"
      ]
     },
     "execution_count": 68,
     "metadata": {},
     "output_type": "execute_result"
    }
   ],
   "source": [
    "df.shape"
   ]
  },
  {
   "cell_type": "markdown",
   "id": "3d5e9bc7",
   "metadata": {},
   "source": [
    "## 2. Analyze Class Distribution"
   ]
  },
  {
   "cell_type": "code",
   "execution_count": 69,
   "id": "f897be7a",
   "metadata": {},
   "outputs": [
    {
     "name": "stdout",
     "output_type": "stream",
     "text": [
      "Class\n",
      "0    284315\n",
      "1       492\n",
      "Name: count, dtype: int64\n"
     ]
    }
   ],
   "source": [
    "# Get the count of each class\n",
    "counts = df['Class'].value_counts().sort_index()\n",
    "print(counts)"
   ]
  },
  {
   "cell_type": "code",
   "execution_count": 70,
   "id": "67c2871a",
   "metadata": {},
   "outputs": [
    {
     "name": "stdout",
     "output_type": "stream",
     "text": [
      "\n",
      "Degree of Imbalance: Fraudulent transactions make up 0.1727% of the dataset.\n"
     ]
    }
   ],
   "source": [
    "# Calculate the percentage of fraudulent transactions\n",
    "fraud_percentage = (counts[1] / counts.sum()) * 100\n",
    "print(f\"\\nDegree of Imbalance: Fraudulent transactions make up {fraud_percentage:.4f}% of the dataset.\")"
   ]
  },
  {
   "cell_type": "code",
   "execution_count": 71,
   "id": "b10c56ea",
   "metadata": {},
   "outputs": [
    {
     "name": "stderr",
     "output_type": "stream",
     "text": [
      "/var/folders/yf/hrhf1sp93cs_t7mxbv6_5k600000gn/T/ipykernel_8374/2870755990.py:2: FutureWarning: \n",
      "\n",
      "Passing `palette` without assigning `hue` is deprecated and will be removed in v0.14.0. Assign the `x` variable to `hue` and set `legend=False` for the same effect.\n",
      "\n",
      "  sns.barplot(x=counts.index, y=counts.values, palette='colorblind')\n"
     ]
    },
    {
     "data": {
      "image/png": "[encoded data removed]",
      "text/plain": [
       "<Figure size 800x600 with 1 Axes>"
      ]
     },
     "metadata": {},
     "output_type": "display_data"
    }
   ],
   "source": [
    "plt.figure(figsize=(8, 6))\n",
    "sns.barplot(x=counts.index, y=counts.values, palette='colorblind')\n",
    "plt.title('Class Distribution: Fraudulent vs. Non-Fraudulent')\n",
    "plt.xticks([0,1], ['Non-Fraud (0)','Fraud (1)'])\n",
    "plt.ylabel('Number of Transactions')\n",
    "plt.show()"
   ]
  },
  {
   "cell_type": "markdown",
   "id": "ca7cd0a1",
   "metadata": {},
   "source": [
    "The dataset exhibits a significant class imbalance. Fraudulent transactions (Class 1) constitute only 0.1727% of the total observations. This disparity is visually confirmed by the bar chart, which illustrates that the volume of non-fraudulent transactions (Class 0) is substantially greater than that of fraudulent ones. Such an imbalance presents a notable challenge, as a standard classification model may achieve high accuracy by being biased towards the majority class, thereby failing to effectively identify the critical minority class."
   ]
  },
  {
   "cell_type": "markdown",
   "id": "2dcec311",
   "metadata": {},
   "source": [
    "## 3. Baseline Model:"
   ]
  },
  {
   "cell_type": "code",
   "execution_count": 72,
   "id": "a2a51a5e",
   "metadata": {},
   "outputs": [],
   "source": [
    "X = df.drop('Class', axis=1)\n",
    "y = df['Class']"
   ]
  },
  {
   "cell_type": "code",
   "execution_count": 73,
   "id": "0460b0ae",
   "metadata": {},
   "outputs": [],
   "source": [
    "# Using stratify=y to ensure the class proportion is the same in train and test sets\n",
    "X_train, X_test, y_train, y_test = train_test_split(X, y, test_size=0.2, random_state=42, stratify=y)\n"
   ]
  },
  {
   "cell_type": "code",
   "execution_count": 74,
   "id": "80ca333c",
   "metadata": {},
   "outputs": [],
   "source": [
    "scaler = StandardScaler()\n",
    "X_train_scaled = X_train.copy()\n",
    "X_test_scaled  = X_test.copy()"
   ]
  },
  {
   "cell_type": "code",
   "execution_count": 75,
   "id": "40ff2995",
   "metadata": {},
   "outputs": [],
   "source": [
    "# scale Amount and Time\n",
    "X_train_scaled[['Amount','Time']] = scaler.fit_transform(X_train[['Amount','Time']])\n",
    "X_test_scaled[['Amount','Time']]  = scaler.transform(X_test[['Amount','Time']])"
   ]
  },
  {
   "cell_type": "markdown",
   "id": "94ef1ca6",
   "metadata": {},
   "source": [
    "We scale numeric features after splitting to avoid data leakage. Resampling will be applied only to the training set in its scaled form."
   ]
  },
  {
   "cell_type": "markdown",
   "id": "3b6e8002",
   "metadata": {},
   "source": [
    "### Logistic Regression on imbalanced training set"
   ]
  },
  {
   "cell_type": "code",
   "execution_count": 76,
   "id": "599811e8",
   "metadata": {},
   "outputs": [
    {
     "name": "stdout",
     "output_type": "stream",
     "text": [
      "Baseline Model (Model 1) Performance on Imbalanced Test Set:\n",
      "               precision    recall  f1-score   support\n",
      "\n",
      "Non-Fraud (0)       1.00      1.00      1.00     56864\n",
      "    Fraud (1)       0.83      0.64      0.72        98\n",
      "\n",
      "     accuracy                           1.00     56962\n",
      "    macro avg       0.91      0.82      0.86     56962\n",
      " weighted avg       1.00      1.00      1.00     56962\n",
      "\n"
     ]
    }
   ],
   "source": [
    "model_1 = LogisticRegression(max_iter=1000, random_state=42)\n",
    "model_1.fit(X_train_scaled, y_train)\n",
    "\n",
    "y_pred_1 = model_1.predict(X_test_scaled)\n",
    "\n",
    "print(\"Baseline Model (Model 1) Performance on Imbalanced Test Set:\")\n",
    "print(classification_report(y_test, y_pred_1, target_names=['Non-Fraud (0)', 'Fraud (1)']))\n"
   ]
  },
  {
   "cell_type": "markdown",
   "id": "75875275",
   "metadata": {},
   "source": [
    "#### Why Accuracy is a Misleading Metric\n",
    "\n",
    "Accuracy is a highly misleading metric in this scenario due to the severe class imbalance. Our baseline model (Model 1) achieves **nearly 100% accuracy**, which at first glance seems like a perfect score. However, this number is deceptive because it's **overwhelmingly influenced** by the model's correct prediction of the majority (Non-Fraud) class.\n",
    "\n",
    "The true performance is revealed by looking at the metrics for the minority (Fraud) class. A \n",
    "\n",
    "**recall of 0.64** indicates that the model is only identifying 64% of the actual fraudulent transactions, meaning it misses 36% of them entirely. For a fraud detection system, failing to catch over a third of fraudulent cases is a critical flaw that the overall accuracy score completely hides.\n",
    "\n",
    "Therefore, metrics like **Precision, Recall, and the F1-score** are far more useful here. They specifically evaluate the model's ability to handle the rare but crucial fraud class, providing a much more realistic assessment of its performance."
   ]
  },
  {
   "cell_type": "markdown",
   "id": "5e19f7b5",
   "metadata": {},
   "source": [
    "# Part B: Resampling Approaches"
   ]
  },
  {
   "cell_type": "markdown",
   "id": "2ad1d2be",
   "metadata": {},
   "source": [
    "## 1. Naive Oversampling (SMOTE)"
   ]
  },
  {
   "cell_type": "markdown",
   "id": "238f350f",
   "metadata": {},
   "source": [
    "### How SMOTE works and its limitations?\n",
    "\n",
    "SMOTE (Synthetic Minority Over-sampling Technique) works by creating 'synthetic' data points rather than just duplicating existing ones. For each minority instance, it identifies its k-nearest minority neighbors. It then creates a new sample at a randomly selected point along the line segment connecting the instance and one of its neighbors. A key limitation is that if the minority class is noisy or overlaps with the majority class, SMOTE can generate new noisy samples in these ambiguous regions, potentially worsening the model's performance."
   ]
  },
  {
   "cell_type": "code",
   "execution_count": 77,
   "id": "2e857345",
   "metadata": {},
   "outputs": [
    {
     "name": "stderr",
     "output_type": "stream",
     "text": [
      "/Users/khushismac/Library/Python/3.9/lib/python/site-packages/sklearn/base.py:474: FutureWarning: `BaseEstimator._validate_data` is deprecated in 1.6 and will be removed in 1.7. Use `sklearn.utils.validation.validate_data` instead. This function becomes public and is part of the scikit-learn developer API.\n",
      "  warnings.warn(\n"
     ]
    },
    {
     "name": "stdout",
     "output_type": "stream",
     "text": [
      "Class Distribution After SMOTE:\n",
      "Class\n",
      "0    227451\n",
      "1    227451\n",
      "Name: count, dtype: int64\n"
     ]
    }
   ],
   "source": [
    "# Apply SMOTE to the training data\n",
    "smote = SMOTE(random_state=42)\n",
    "X_smote, y_smote = smote.fit_resample(X_train_scaled, y_train)\n",
    "\n",
    "print(\"Class Distribution After SMOTE:\")\n",
    "print(pd.Series(y_smote).value_counts())"
   ]
  },
  {
   "cell_type": "markdown",
   "id": "da0393a4",
   "metadata": {},
   "source": [
    "## 2. Clustering-Based Oversampling (CBO)"
   ]
  },
  {
   "cell_type": "markdown",
   "id": "043ed1a1",
   "metadata": {},
   "source": [
    "**Clustering-Based Oversampling (CBO)** aims to improve upon naive oversampling by preserving the internal structure of the minority class. The process involves first applying a clustering algorithm (like K-Means) to the minority samples to identify distinct sub-groups. Then, instead of oversampling the entire class uniformly, it oversamples from each of these clusters. This ensures that rarer sub-groups within the minority class are adequately represented in the final training set, promoting diversity and avoiding the generation of synthetic data in sparse regions."
   ]
  },
  {
   "cell_type": "code",
   "execution_count": 78,
   "id": "b39466d1",
   "metadata": {},
   "outputs": [],
   "source": [
    "# Separate minority and majority classes from the training set\n",
    "X_train_minority = X_train_scaled[y_train == 1]\n",
    "X_train_majority = X_train_scaled[y_train == 0]\n",
    "y_train_minority = y_train[y_train == 1]\n",
    "y_train_majority = y_train[y_train == 0]"
   ]
  },
  {
   "cell_type": "code",
   "execution_count": 79,
   "id": "ac57c248",
   "metadata": {},
   "outputs": [
    {
     "data": {
      "image/png": "[encoded data removed]",
      "text/plain": [
       "<Figure size 800x500 with 1 Axes>"
      ]
     },
     "metadata": {},
     "output_type": "display_data"
    }
   ],
   "source": [
    "# Elbow Method to find the optimal k for CBO\n",
    "inertia = []\n",
    "k_range = range(2, 11) # Test k from 2 to 10\n",
    "\n",
    "for k in k_range:\n",
    "    kmeans = KMeans(n_clusters=k, random_state=42, n_init=10)\n",
    "    kmeans.fit(X_train_minority)\n",
    "    inertia.append(kmeans.inertia_)\n",
    "\n",
    "# Plot the Elbow Curve\n",
    "plt.figure(figsize=(8, 5))\n",
    "plt.plot(k_range, inertia, marker='o', linestyle='--')\n",
    "plt.title('Elbow Method for Minority Class (CBO)')\n",
    "plt.xlabel('Number of Clusters (k)')\n",
    "plt.ylabel('Inertia')\n",
    "plt.xticks(k_range)\n",
    "plt.show()"
   ]
  },
  {
   "cell_type": "markdown",
   "id": "128b766a",
   "metadata": {},
   "source": [
    "Based on the Elbow plot, an elbow point appears around **k=4 or 5**. We will proceed with **k=5** to capture distinct sub-groups within the minority class."
   ]
  },
  {
   "cell_type": "code",
   "execution_count": 82,
   "id": "50cf70e5",
   "metadata": {},
   "outputs": [],
   "source": [
    "k = 5\n",
    "kmeans = KMeans(n_clusters=k, random_state=42, n_init=10)\n",
    "X_train_minority.loc[:, 'cluster'] = kmeans.fit_predict(X_train_minority)"
   ]
  },
  {
   "cell_type": "code",
   "execution_count": 83,
   "id": "c9e6f217",
   "metadata": {},
   "outputs": [],
   "source": [
    "# Calculate how many samples to generate per cluster\n",
    "samples_to_generate = len(X_train_majority) - len(X_train_minority)\n",
    "samples_per_cluster = samples_to_generate // k"
   ]
  },
  {
   "cell_type": "code",
   "execution_count": 84,
   "id": "4398f235",
   "metadata": {},
   "outputs": [],
   "source": [
    "X_cbo_resampled = []\n",
    "# Oversample from each cluster\n",
    "for i in range(k):\n",
    "    cluster_samples = X_train_minority[X_train_minority['cluster'] == i].drop('cluster', axis=1)\n",
    "    resampled = cluster_samples.sample(n=samples_per_cluster, replace=True, random_state=42)\n",
    "    X_cbo_resampled.append(resampled)\n",
    "\n",
    "# Combine the oversampled minority data\n",
    "X_cbo_minority = pd.concat(X_cbo_resampled)\n",
    "X_train_minority = X_train_minority.drop('cluster', axis=1) # Drop the cluster label"
   ]
  },
  {
   "cell_type": "code",
   "execution_count": 85,
   "id": "e7f13433",
   "metadata": {},
   "outputs": [
    {
     "name": "stdout",
     "output_type": "stream",
     "text": [
      "Class Distribution After CBO:\n",
      "0    227451\n",
      "1    227449\n",
      "Name: count, dtype: int64\n"
     ]
    }
   ],
   "source": [
    "# Create the final CBO training set\n",
    "X_cbo = pd.concat([X_train_majority, X_train_minority, X_cbo_minority])\n",
    "y_cbo = pd.concat([y_train_majority, y_train_minority, pd.Series([1]*len(X_cbo_minority))])\n",
    "\n",
    "print(\"Class Distribution After CBO:\")\n",
    "print(y_cbo.value_counts())"
   ]
  },
  {
   "cell_type": "markdown",
   "id": "84f50597",
   "metadata": {},
   "source": [
    "## 3. Clustering-Based Undersampling (CBU)"
   ]
  },
  {
   "cell_type": "markdown",
   "id": "4b0df2d8",
   "metadata": {},
   "source": [
    "**Clustering-Based Undersampling (CBU)** is a method to intelligently reduce the size of the majority class. Instead of removing random samples, it first groups the majority data into several clusters. This reveals the underlying distribution of the majority class. Undersampling is then performed on these clusters. For instance, one could remove samples proportionally from each cluster to maintain the original distribution, or one could remove more samples from clusters that are far from the decision boundary. This is more effective than random undersampling because it helps preserve a representative sample of the majority class."
   ]
  },
  {
   "cell_type": "code",
   "execution_count": 86,
   "id": "8897076d",
   "metadata": {},
   "outputs": [
    {
     "data": {
      "image/png": "[encoded data removed]",
      "text/plain": [
       "<Figure size 800x500 with 1 Axes>"
      ]
     },
     "metadata": {},
     "output_type": "display_data"
    }
   ],
   "source": [
    "# Elbow Method to find the optimal k for CBU\n",
    "inertia_maj = []\n",
    "k_range = range(2, 11) # Test k from 2 to 10\n",
    "\n",
    "for k in k_range:\n",
    "    kmeans = KMeans(n_clusters=k, random_state=42, n_init=10)\n",
    "    kmeans.fit(X_train_majority)\n",
    "    inertia_maj.append(kmeans.inertia_)\n",
    "\n",
    "# Plot the Elbow Curve\n",
    "plt.figure(figsize=(8, 5))\n",
    "plt.plot(k_range, inertia_maj, marker='o', linestyle='--')\n",
    "plt.title('Elbow Method for Majority Class (CBU)')\n",
    "plt.xlabel('Number of Clusters (k)')\n",
    "plt.ylabel('Inertia')\n",
    "plt.xticks(k_range)\n",
    "plt.show()"
   ]
  },
  {
   "cell_type": "markdown",
   "id": "64af700c",
   "metadata": {},
   "source": [
    "The Elbow plot for the majority class does not show a distinct elbow, suggesting a smooth distribution. We will proceed with **k=10** to create a more granular clustering, ensuring a better representation of the majority class's diverse structure before undersampling."
   ]
  },
  {
   "cell_type": "code",
   "execution_count": 88,
   "id": "658bba92",
   "metadata": {},
   "outputs": [],
   "source": [
    "# Use K-Means to find clusters in the majority data\n",
    "k_maj = 10 # Using more clusters for the larger majority class\n",
    "kmeans_maj = KMeans(n_clusters=k_maj, random_state=42, n_init=10)\n",
    "X_train_majority.loc[:,'cluster'] = kmeans_maj.fit_predict(X_train_majority)\n"
   ]
  },
  {
   "cell_type": "code",
   "execution_count": 89,
   "id": "d51b5e36",
   "metadata": {},
   "outputs": [],
   "source": [
    "# Number of majority samples to keep (equal to minority samples)\n",
    "n_to_keep = len(y_train_minority)\n",
    "samples_per_cluster = n_to_keep // k_maj"
   ]
  },
  {
   "cell_type": "code",
   "execution_count": 90,
   "id": "25c67c12",
   "metadata": {},
   "outputs": [],
   "source": [
    "X_cbu_resampled = []\n",
    "# Undersample proportionally from each cluster [cite: 44]\n",
    "for i in range(k_maj):\n",
    "    cluster_samples = X_train_majority[X_train_majority['cluster'] == i]\n",
    "    # To handle clusters with fewer samples than samples_per_cluster\n",
    "    n_samples = min(len(cluster_samples), samples_per_cluster)\n",
    "    resampled = cluster_samples.sample(n=n_samples, random_state=42)\n",
    "    X_cbu_resampled.append(resampled)\n",
    "\n",
    "# Combine the undersampled majority data\n",
    "X_cbu_majority = pd.concat(X_cbu_resampled).drop('cluster', axis=1)"
   ]
  },
  {
   "cell_type": "code",
   "execution_count": 91,
   "id": "36c8ae48",
   "metadata": {},
   "outputs": [
    {
     "name": "stdout",
     "output_type": "stream",
     "text": [
      "Class Distribution After CBU:\n",
      "Class\n",
      "1    394\n",
      "0    390\n",
      "Name: count, dtype: int64\n"
     ]
    }
   ],
   "source": [
    "# Create the final CBU training set \n",
    "X_cbu = pd.concat([X_cbu_majority, X_train_minority])\n",
    "y_cbu = pd.concat([y_train_majority.loc[X_cbu_majority.index], y_train_minority])\n",
    "\n",
    "\n",
    "print(\"Class Distribution After CBU:\")\n",
    "print(y_cbu.value_counts())\n"
   ]
  },
  {
   "cell_type": "markdown",
   "id": "9dbbf21f",
   "metadata": {},
   "source": [
    "# Part C: Model Comparison and Analysis"
   ]
  },
  {
   "cell_type": "markdown",
   "id": "d048c491",
   "metadata": {},
   "source": [
    "## 1. Train and Evaluate Models "
   ]
  },
  {
   "cell_type": "code",
   "execution_count": 92,
   "id": "e303629a",
   "metadata": {},
   "outputs": [
    {
     "name": "stdout",
     "output_type": "stream",
     "text": [
      "SMOTE Model (Model 2) Performance:\n",
      "               precision    recall  f1-score   support\n",
      "\n",
      "Non-Fraud (0)       1.00      0.97      0.99     56864\n",
      "    Fraud (1)       0.06      0.92      0.11        98\n",
      "\n",
      "     accuracy                           0.97     56962\n",
      "    macro avg       0.53      0.95      0.55     56962\n",
      " weighted avg       1.00      0.97      0.99     56962\n",
      "\n"
     ]
    }
   ],
   "source": [
    "# Model 2 (SMOTE)\n",
    "model_2 = LogisticRegression(max_iter=1000, random_state=42).fit(X_smote, y_smote)\n",
    "y_pred_2 = model_2.predict(X_test_scaled)\n",
    "print(\"SMOTE Model (Model 2) Performance:\")\n",
    "print(classification_report(y_test, y_pred_2, target_names=['Non-Fraud (0)', 'Fraud (1)']))"
   ]
  },
  {
   "cell_type": "markdown",
   "id": "c27e6d13",
   "metadata": {},
   "source": [
    "**Observation**: We see a massive increase in recall (from 0.64 in the baseline to 0.92) but a catastrophic drop in precision (to 0.06).\n",
    "\n",
    "**Reasoning**: This is a classic SMOTE outcome. By creating many synthetic minority samples, the model becomes very sensitive to potential fraud, hence the high recall. However, some of these synthetic points can be noisy or ambiguous, causing the model to misclassify many non-fraudulent transactions as fraudulent (high false positives), which destroys the precision."
   ]
  },
  {
   "cell_type": "code",
   "execution_count": 93,
   "id": "3b4cac52",
   "metadata": {},
   "outputs": [
    {
     "name": "stdout",
     "output_type": "stream",
     "text": [
      "\n",
      "Clustering-Based Oversampling (Model 3) Performance:\n",
      "               precision    recall  f1-score   support\n",
      "\n",
      "Non-Fraud (0)       1.00      0.99      0.99     56864\n",
      "    Fraud (1)       0.13      0.91      0.22        98\n",
      "\n",
      "     accuracy                           0.99     56962\n",
      "    macro avg       0.56      0.95      0.61     56962\n",
      " weighted avg       1.00      0.99      0.99     56962\n",
      "\n"
     ]
    }
   ],
   "source": [
    "# Model 3 (CBO)\n",
    "model_3 = LogisticRegression(max_iter=1000, random_state=42).fit(X_cbo, y_cbo)\n",
    "y_pred_3 = model_3.predict(X_test_scaled)\n",
    "print(\"\\nClustering-Based Oversampling (Model 3) Performance:\")\n",
    "print(classification_report(y_test, y_pred_3, target_names=['Non-Fraud (0)', 'Fraud (1)']))"
   ]
  },
  {
   "cell_type": "markdown",
   "id": "56c218c4",
   "metadata": {},
   "source": [
    "**Observation**: The recall remains very high (0.91), but the precision (0.13) and F1-score (0.22) are more than double those of the SMOTE model.\n",
    "\n",
    "**Reasoning**: It demonstrates the benefit of CBO. By clustering first, we generate more representative samples and less noise compared to standard SMOTE. This leads to fewer false positives, which is why our precision improved significantly without sacrificing much recall.\n",
    "\n"
   ]
  },
  {
   "cell_type": "code",
   "execution_count": 94,
   "id": "18f94dd7",
   "metadata": {},
   "outputs": [
    {
     "name": "stdout",
     "output_type": "stream",
     "text": [
      "\n",
      "Clustering-Based Undersampling (Model 4) Performance:\n",
      "               precision    recall  f1-score   support\n",
      "\n",
      "Non-Fraud (0)       1.00      0.97      0.98     56864\n",
      "    Fraud (1)       0.05      0.91      0.09        98\n",
      "\n",
      "     accuracy                           0.97     56962\n",
      "    macro avg       0.52      0.94      0.54     56962\n",
      " weighted avg       1.00      0.97      0.98     56962\n",
      "\n"
     ]
    }
   ],
   "source": [
    "# Model 4 (CBU)\n",
    "model_4 = LogisticRegression(max_iter=1000, random_state=42).fit(X_cbu, y_cbu)\n",
    "y_pred_4 = model_4.predict(X_test_scaled)\n",
    "print(\"\\nClustering-Based Undersampling (Model 4) Performance:\")\n",
    "print(classification_report(y_test, y_pred_4, target_names=['Non-Fraud (0)', 'Fraud (1)']))"
   ]
  },
  {
   "cell_type": "markdown",
   "id": "e139a9ed",
   "metadata": {},
   "source": [
    "**Observation**: This model also achieves a high recall (0.91), but its precision (0.05) and F1-score (0.09) are the lowest of all the resampled models.\n",
    "\n",
    "**Reasoning**: By drastically reducing the number of majority samples, we risk throwing away a lot of useful information that helps the model distinguish between the two classes. While the balanced dataset helps increase recall, the significant information loss makes the model less precise, leading to many false positives."
   ]
  },
  {
   "cell_type": "markdown",
   "id": "638be3b3",
   "metadata": {},
   "source": [
    "## 2. Performance Comparison"
   ]
  },
  {
   "cell_type": "code",
   "execution_count": 95,
   "id": "7cba2051",
   "metadata": {},
   "outputs": [],
   "source": [
    "results = {\n",
    "    'Model': ['Baseline', 'SMOTE', 'CBO', 'CBU'],\n",
    "    'Precision': [\n",
    "        precision_score(y_test, y_pred_1),\n",
    "        precision_score(y_test, y_pred_2),\n",
    "        precision_score(y_test, y_pred_3),\n",
    "        precision_score(y_test, y_pred_4)\n",
    "    ],\n",
    "    'Recall': [\n",
    "        recall_score(y_test, y_pred_1),\n",
    "        recall_score(y_test, y_pred_2),\n",
    "        recall_score(y_test, y_pred_3),\n",
    "        recall_score(y_test, y_pred_4)\n",
    "    ],\n",
    "    'F1-Score': [\n",
    "        f1_score(y_test, y_pred_1),\n",
    "        f1_score(y_test, y_pred_2),\n",
    "        f1_score(y_test, y_pred_3),\n",
    "        f1_score(y_test, y_pred_4)\n",
    "    ]\n",
    "}"
   ]
  },
  {
   "cell_type": "code",
   "execution_count": 96,
   "id": "6fa165eb",
   "metadata": {},
   "outputs": [
    {
     "name": "stdout",
     "output_type": "stream",
     "text": [
      "      Model  Precision    Recall  F1-Score\n",
      "0  Baseline   0.828947  0.642857  0.724138\n",
      "1     SMOTE   0.058027  0.918367  0.109157\n",
      "2       CBO   0.127507  0.908163  0.223618\n",
      "3       CBU   0.045900  0.908163  0.087383\n"
     ]
    }
   ],
   "source": [
    "results_df = pd.DataFrame(results)\n",
    "print(results_df)"
   ]
  },
  {
   "cell_type": "code",
   "execution_count": 97,
   "id": "57aa78bf",
   "metadata": {},
   "outputs": [
    {
     "data": {
      "image/png": "[encoded data removed]",
      "text/plain": [
       "<Figure size 1200x800 with 1 Axes>"
      ]
     },
     "metadata": {},
     "output_type": "display_data"
    }
   ],
   "source": [
    "results_df.set_index('Model').plot(kind='bar', figsize=(12, 8))\n",
    "plt.title('Model Performance Comparison for Fraud Class')\n",
    "plt.ylabel('Score')\n",
    "plt.xticks(rotation=0)\n",
    "plt.legend(loc='lower right')\n",
    "plt.show()"
   ]
  },
  {
   "cell_type": "markdown",
   "id": "c1ab0fc3",
   "metadata": {},
   "source": [
    "## Part C: Conclusion and Recommendations"
   ]
  },
  {
   "cell_type": "markdown",
   "id": "c36241d5",
   "metadata": {},
   "source": [
    "The analysis of the four models provides clear insights into the effectiveness of different resampling strategies for handling highly imbalanced data in fraud detection."
   ]
  },
  {
   "cell_type": "markdown",
   "id": "cf86ac5b",
   "metadata": {},
   "source": [
    "### Discussion of Model Performance\n",
    "The Baseline model, trained on the original imbalanced data, achieved high precision (0.83) but had a low recall (0.64), meaning it failed to identify over 35% of fraudulent transactions. This is unacceptable for a fraud detection system.\n",
    "\n",
    "All three resampling techniques—SMOTE, CBO, and CBU—successfully addressed this primary issue by dramatically increasing recall to over 90%. However, this came at a significant cost.\n",
    "\n",
    "#### **Benefits & Drawbacks**:\n",
    "\n",
    "- **SMOTE and CBU** achieved the goal of high recall but suffered a catastrophic drop in precision (to 5-6%). The main drawback of these methods is the creation of an unmanageable number of false positives, where legitimate transactions are incorrectly flagged as fraudulent. This would lead to poor customer experience and high operational costs.\n",
    "\n",
    "- **CBO (Clustering-Based Oversampling)** also delivered a high recall of 90.8%, but its precision (12.8%) was more than double that of SMOTE and CBU. This indicates a more intelligent and balanced approach to resampling."
   ]
  },
  {
   "cell_type": "markdown",
   "id": "7a6f9473",
   "metadata": {},
   "source": [
    "### Best Performing Method\n",
    "**The CBO (Clustering-Based Oversampling)** model was the best-performing method.\n",
    "\n",
    "While it did not have the single highest recall, it achieved the **highest F1-Score (0.22)**. The F1-Score represents the harmonic mean of precision and recall, making it the most suitable metric for evaluating a model's overall effectiveness in this scenario. The CBO model provides the most practical and effective balance between identifying the maximum number of frauds and minimizing false alarms."
   ]
  },
  {
   "cell_type": "markdown",
   "id": "d2720b2e",
   "metadata": {},
   "source": [
    "### Addressing SMOTE's Limitations\n",
    "A key limitation of a naive method like **SMOTE** is its tendency to generate synthetic samples in noisy regions that may overlap with the majority class. This confuses the classifier and leads to poor precision.\n",
    "\n",
    "The **clustering-based approach (CBO)** directly addresses this limitation. By first grouping the minority (fraud) class into distinct clusters, it identifies the underlying data structure. Oversampling is then performed within these well-defined sub-groups, ensuring that the new synthetic data is more representative and less noisy. This leads to a model that can learn the decision boundary more effectively, which is demonstrated by CBO's superior precision."
   ]
  },
  {
   "cell_type": "markdown",
   "id": "62c1e1f4",
   "metadata": {},
   "source": [
    "### Final Recommendation\n",
    "It is recommended that the company adopt the **Clustering-Based Oversampling (CBO)** strategy for training its fraud detection models.\n",
    "\n",
    "This approach provides the best operational trade-off. It ensures a high detection rate for fraudulent activities (high recall) while keeping the rate of false positives significantly lower than other resampling techniques. This strategy will enhance security and fraud prevention without severely impacting the experience of legitimate customers. "
   ]
  }
 ],
 "metadata": {
  "kernelspec": {
   "display_name": "Python 3",
   "language": "python",
   "name": "python3"
  },
  "language_info": {
   "codemirror_mode": {
    "name": "ipython",
    "version": 3
   },
   "file_extension": ".py",
   "mimetype": "text/x-python",
   "name": "python",
   "nbconvert_exporter": "python",
   "pygments_lexer": "ipython3",
   "version": "3.9.6"
  }
 },
 "nbformat": 4,
 "nbformat_minor": 5
}
